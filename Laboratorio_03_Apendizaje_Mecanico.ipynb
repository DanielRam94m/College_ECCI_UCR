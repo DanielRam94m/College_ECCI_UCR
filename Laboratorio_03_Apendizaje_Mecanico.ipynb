{
  "nbformat": 4,
  "nbformat_minor": 0,
  "metadata": {
    "colab": {
      "name": "Laboratorio 03 - Apendizaje Mecanico.ipynb",
      "provenance": [],
      "collapsed_sections": [],
      "authorship_tag": "ABX9TyPn7DxZ/zsC3hy3ikfijFLm",
      "include_colab_link": true
    },
    "kernelspec": {
      "name": "python3",
      "display_name": "Python 3"
    },
    "language_info": {
      "name": "python"
    }
  },
  "cells": [
    {
      "cell_type": "markdown",
      "metadata": {
        "id": "view-in-github",
        "colab_type": "text"
      },
      "source": [
        "<a href=\"https://colab.research.google.com/github/DanielRam94m/College_ECCI_UCR/blob/master/Laboratorio_03_Apendizaje_Mecanico.ipynb\" target=\"_parent\"><img src=\"https://colab.research.google.com/assets/colab-badge.svg\" alt=\"Open In Colab\"/></a>"
      ]
    },
    {
      "cell_type": "markdown",
      "source": [
        "# Universidad de Costa Rica\n",
        "# Aprendizaje Mecánico\n",
        "# Laboratorio 03 - Regresión Lineal\n",
        "# Daniel Ricardo Ramírez Umaña, B45675"
      ],
      "metadata": {
        "id": "io8KrUAmZSog"
      }
    },
    {
      "cell_type": "code",
      "execution_count": 110,
      "metadata": {
        "id": "ms0YVszNZJjf"
      },
      "outputs": [],
      "source": [
        "import numpy as np\n",
        "import pandas as pd\n",
        "import matplotlib.pyplot as plt\n",
        "import seaborn as sns\n",
        "from sklearn.model_selection import train_test_split"
      ]
    },
    {
      "cell_type": "markdown",
      "source": [
        "### Leer archivo y guardarlo en un dataframe"
      ],
      "metadata": {
        "id": "HRExdHKtNM0l"
      }
    },
    {
      "cell_type": "code",
      "source": [
        "def get_X_and_Y(data, feature):\n",
        "  y_df = data[feature]\n",
        "  x_df = data.loc[:, data.columns != feature]\n",
        "  x_data = x_df.to_numpy()\n",
        "  y_data = y_df.to_numpy()\n",
        "  bias = np.ones(x_data.shape[0])\n",
        "  x_data = np.insert(x_data, 0, bias, axis=1)\n",
        "  return x_data, y_data\n"
      ],
      "metadata": {
        "id": "Vi3OY4i1NboX"
      },
      "execution_count": 111,
      "outputs": []
    },
    {
      "cell_type": "markdown",
      "source": [
        "### Función que recibe dos arreglos de tipo flotante (uno real y uno predicho) calcula y retorna el error cuadrático medio de dicha predicción\n",
        "\n",
        "### Cost = $\\frac{1}{m}\\sum|Y_p - Y|^2$"
      ],
      "metadata": {
        "id": "KbOc3rt8tGyc"
      }
    },
    {
      "cell_type": "code",
      "source": [
        "def MSE(y_true, X, W):\n",
        "  y_true.shape = (y_true.shape[0],1) \n",
        "  return np.sum((np.matmul(X,W) - y_true)**2 / len(y_true))"
      ],
      "metadata": {
        "id": "Vy7Bsv-Ht1KO"
      },
      "execution_count": 112,
      "outputs": []
    },
    {
      "cell_type": "markdown",
      "source": [
        "### Función que recibe dos arreglos de tipo flotante (uno real y uno predicho) calcula y retorna el error absoluto medio de dicha predicción"
      ],
      "metadata": {
        "id": "D6zwF1YLuOtx"
      }
    },
    {
      "cell_type": "code",
      "source": [
        "def d_MSE(y_true, X, W):\n",
        "  y_true.shape = (y_true.shape[0],1) \n",
        "  return 2 * np.matmul((np.matmul(X,W) - y_true).transpose(), X).transpose() / len(y_true)"
      ],
      "metadata": {
        "id": "rVhcYUyYunI8"
      },
      "execution_count": 113,
      "outputs": []
    },
    {
      "cell_type": "markdown",
      "source": [
        "### Función que recibe dos arreglos de tipo flotante (uno real y uno predicho) calcula y retorna el coeficiente de prede determinación R^2 de dicha predicción"
      ],
      "metadata": {
        "id": "3moEeGO-uu7T"
      }
    },
    {
      "cell_type": "code",
      "source": [
        "def score(y_true, y_predict):\n",
        "  matriz_correlacion = np.corrcoef(y_true, y_predict)\n",
        "  correlacion = matriz_correlacion[0,1]\n",
        "  return correlacion**2"
      ],
      "metadata": {
        "id": "-7fPnJCouudj"
      },
      "execution_count": 114,
      "outputs": []
    },
    {
      "cell_type": "markdown",
      "source": [
        "### El Modelo"
      ],
      "metadata": {
        "id": "xlqejzUOA80O"
      }
    },
    {
      "cell_type": "code",
      "source": [
        "class LinearRegression() :\n",
        "      \n",
        "  def __init__( self):\n",
        "    self.X = None\n",
        "    self.Y = None\n",
        "    self.W = None\n",
        "    self.max_epochs = None\n",
        "    self.threshold = None\n",
        "    self.learning_rate = None\n",
        "    self.momentum = None\n",
        "    self.decay = None\n",
        "    self.error = None\n",
        "    self.regularization = None\n",
        "    self._lambda = None\n",
        "\n",
        "  # Funsión que actualiza los pesos\n",
        "  def update_weights(self, d_mse):\n",
        "    return self.W - d_mse * self.learning_rate\n",
        "\n",
        "  # Funsión que realiza la predicción\n",
        "  def predict(self, X, W):\n",
        "    return np.matmul(X, W)  \n",
        "        \n",
        "  # Function for model training     \n",
        "  def fit( self, X, Y , max_epochs=100, threshold=0.01, learning_rate=0.001, momentum=0, decay=0, error='mse', regularization='none', _lambda=0):\n",
        "\n",
        "    self.X = X\n",
        "    self.Y = Y\n",
        "    self.learning_rate = learning_rate\n",
        "    self.max_epochs = max_epochs\n",
        "\n",
        "    # Primero el vector de pesos W se crea con valores aleatorios\n",
        "    tam = self.X.shape[1]\n",
        "    self.W = np.random.standard_normal(tam)\n",
        "    self.W.shape = (self.W.shape[0], 1)\n",
        "\n",
        "    # Vector de errores a predecir\n",
        "    errors_vector = []\n",
        "\n",
        "    for m_e in range(0, self.max_epochs):\n",
        "      mse = MSE(self.Y, self.X, self.W)\n",
        "      d_mse = d_MSE(self.Y, self.X, self.W)\n",
        "      errors_vector.append(mse)\n",
        "      self.W = self.update_weights(d_mse)\n",
        "\n",
        "    # Puerba de actualizar pesos\n",
        "    sns.lineplot(y = errors_vector, x = range(len(errors_vector)))\n",
        "    plt.show()\n",
        "\n",
        "    return self.W\n"
      ],
      "metadata": {
        "id": "O94acUSOqaa0"
      },
      "execution_count": 121,
      "outputs": []
    },
    {
      "cell_type": "code",
      "source": [
        "data = pd.read_csv('fish_perch.csv')\n",
        "feature = 'Weight'\n",
        "\n",
        "# Se generan los datasets X y Y\n",
        "X, Y = get_X_and_Y(data, feature)\n",
        "\n",
        "# Crea el datasets de entrenamiento y de prueba\n",
        "X_training, X_testing, Y_training, Y_testing = train_test_split( X, Y, test_size = 0.2,random_state=21)\n",
        "\n",
        "# Se crea instancia del modelo\n",
        "my_LR = LinearRegression()\n",
        "\n",
        "# Se entrena el modelo\n",
        "mis_pesos = my_LR.fit(X_training, Y_training, 20000, 0.01, 0.0000001, 0, 0, 'mse', 'none', 0)\n",
        "print('\\nCada atrubuto tiene peso:\\n', mis_pesos)\n",
        "\n",
        "# Se testea el modelo\n",
        "predicho = my_LR.predict(X_testing, mis_pesos)\n",
        "print('\\nSe predijo:\\n', predicho)\n",
        "print('\\nPeso real:\\n', Y_testing)"
      ],
      "metadata": {
        "colab": {
          "base_uri": "https://localhost:8080/",
          "height": 699
        },
        "id": "TzHx5xk0elWY",
        "outputId": "6e657f78-d8fa-4c7d-9638-d0d9e225e073"
      },
      "execution_count": 122,
      "outputs": [
        {
          "output_type": "display_data",
          "data": {
            "text/plain": [
              "<Figure size 432x288 with 1 Axes>"
            ],
            "image/png": "[encoded data removed]"
          },
          "metadata": {
            "needs_background": "light"
          }
        },
        {
          "output_type": "stream",
          "name": "stdout",
          "text": [
            "\n",
            "Cada atrubuto tiene peso:\n",
            " [[0.24889514]\n",
            " [4.36909281]\n",
            " [6.63353386]\n",
            " [4.1336602 ]\n",
            " [1.73870392]\n",
            " [1.29842966]]\n",
            "\n",
            "Se predijo:\n",
            " [[298.69382876]\n",
            " [664.78707442]\n",
            " [631.63106524]\n",
            " [377.0328159 ]\n",
            " [345.75739122]\n",
            " [235.99053191]\n",
            " [369.1609591 ]\n",
            " [431.19914505]\n",
            " [345.50136128]\n",
            " [680.15834874]\n",
            " [431.22321178]\n",
            " [356.36906386]]\n",
            "\n",
            "Peso real:\n",
            " [  80. 1100.  850.  145.  120.   40.  170.  260.  135. 1100.  300.  145.]\n"
          ]
        }
      ]
    }
  ]
}