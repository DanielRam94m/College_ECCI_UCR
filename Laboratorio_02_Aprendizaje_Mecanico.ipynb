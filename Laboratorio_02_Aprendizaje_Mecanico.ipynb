{
  "nbformat": 4,
  "nbformat_minor": 0,
  "metadata": {
    "colab": {
      "name": "Laboratorio 02 Aprendizaje Mecanico.ipynb",
      "provenance": [],
      "collapsed_sections": [],
      "include_colab_link": true
    },
    "kernelspec": {
      "name": "python3",
      "display_name": "Python 3"
    },
    "language_info": {
      "name": "python"
    }
  },
  "cells": [
    {
      "cell_type": "markdown",
      "metadata": {
        "id": "view-in-github",
        "colab_type": "text"
      },
      "source": [
        "<a href=\"https://colab.research.google.com/github/DanielRam94m/College_ECCI_UCR/blob/master/Laboratorio_02_Aprendizaje_Mecanico.ipynb\" target=\"_parent\"><img src=\"https://colab.research.google.com/assets/colab-badge.svg\" alt=\"Open In Colab\"/></a>"
      ]
    },
    {
      "cell_type": "markdown",
      "source": [
        "## **Laboratorio 02 Aprendizaje Mecánico**\n",
        "### Árboles de Decisión\n",
        "#### Celeste Balladares, B70873\n",
        "#### Daniel Ramírez, B45675\n",
        "---"
      ],
      "metadata": {
        "id": "4RB-x8oqUE--"
      }
    },
    {
      "cell_type": "markdown",
      "source": [
        "**Importar librerias**"
      ],
      "metadata": {
        "id": "pkj99pbVVGo2"
      }
    },
    {
      "cell_type": "code",
      "source": [
        "# importar librerias\n",
        "import pandas as pd\n",
        "import numpy as np"
      ],
      "metadata": {
        "id": "OkOBFJBVXGzp"
      },
      "execution_count": null,
      "outputs": []
    },
    {
      "cell_type": "markdown",
      "source": [
        "**Obtener datasets**"
      ],
      "metadata": {
        "id": "zOfIvL5DVNJG"
      }
    },
    {
      "cell_type": "code",
      "source": [
        "df_mushrooms = pd.read_csv (r'/content/mushrooms.csv')\n",
        "print(df_mushrooms.shape)\n",
        "\n",
        "y_mushrooms = df_mushrooms['class']\n",
        "#print('Esta es \"y\"\\n', y_iris.head(), '\\n\\n')\n",
        "\n",
        "x_mushrooms = df_mushrooms.loc[ : , df_mushrooms.columns != 'class']\n",
        "#print('Esta es \"x\"\\n', x_iris.head())\n",
        "\n",
        "df_mushrooms.head()"
      ],
      "metadata": {
        "id": "5Osligc6Ym5L",
        "colab": {
          "base_uri": "https://localhost:8080/",
          "height": 349
        },
        "outputId": "8eaa3faf-aff3-479e-a215-0e511b5fd489"
      },
      "execution_count": null,
      "outputs": [
        {
          "output_type": "stream",
          "name": "stdout",
          "text": [
            "(8124, 23)\n"
          ]
        },
        {
          "output_type": "execute_result",
          "data": {
            "text/plain": [
              "  class cap-shape cap-surface cap-color bruises odor gill-attachment  \\\n",
              "0     p         x           s         n       t    p               f   \n",
              "1     e         x           s         y       t    a               f   \n",
              "2     e         b           s         w       t    l               f   \n",
              "3     p         x           y         w       t    p               f   \n",
              "4     e         x           s         g       f    n               f   \n",
              "\n",
              "  gill-spacing gill-size gill-color  ... stalk-surface-below-ring  \\\n",
              "0            c         n          k  ...                        s   \n",
              "1            c         b          k  ...                        s   \n",
              "2            c         b          n  ...                        s   \n",
              "3            c         n          n  ...                        s   \n",
              "4            w         b          k  ...                        s   \n",
              "\n",
              "  stalk-color-above-ring stalk-color-below-ring veil-type veil-color  \\\n",
              "0                      w                      w         p          w   \n",
              "1                      w                      w         p          w   \n",
              "2                      w                      w         p          w   \n",
              "3                      w                      w         p          w   \n",
              "4                      w                      w         p          w   \n",
              "\n",
              "  ring-number ring-type spore-print-color population habitat  \n",
              "0           o         p                 k          s       u  \n",
              "1           o         p                 n          n       g  \n",
              "2           o         p                 n          n       m  \n",
              "3           o         p                 k          s       u  \n",
              "4           o         e                 n          a       g  \n",
              "\n",
              "[5 rows x 23 columns]"
            ],
            "text/html": [
              "\n",
              "  <div id=\"df-53d21873-1f88-45ee-bc6a-1f6979850bbe\">\n",
              "    <div class=\"colab-df-container\">\n",
              "      <div>\n",
              "<style scoped>\n",
              "    .dataframe tbody tr th:only-of-type {\n",
              "        vertical-align: middle;\n",
              "    }\n",
              "\n",
              "    .dataframe tbody tr th {\n",
              "        vertical-align: top;\n",
              "    }\n",
              "\n",
              "    .dataframe thead th {\n",
              "        text-align: right;\n",
              "    }\n",
              "</style>\n",
              "<table border=\"1\" class=\"dataframe\">\n",
              "  <thead>\n",
              "    <tr style=\"text-align: right;\">\n",
              "      <th></th>\n",
              "      <th>class</th>\n",
              "      <th>cap-shape</th>\n",
              "      <th>cap-surface</th>\n",
              "      <th>cap-color</th>\n",
              "      <th>bruises</th>\n",
              "      <th>odor</th>\n",
              "      <th>gill-attachment</th>\n",
              "      <th>gill-spacing</th>\n",
              "      <th>gill-size</th>\n",
              "      <th>gill-color</th>\n",
              "      <th>...</th>\n",
              "      <th>stalk-surface-below-ring</th>\n",
              "      <th>stalk-color-above-ring</th>\n",
              "      <th>stalk-color-below-ring</th>\n",
              "      <th>veil-type</th>\n",
              "      <th>veil-color</th>\n",
              "      <th>ring-number</th>\n",
              "      <th>ring-type</th>\n",
              "      <th>spore-print-color</th>\n",
              "      <th>population</th>\n",
              "      <th>habitat</th>\n",
              "    </tr>\n",
              "  </thead>\n",
              "  <tbody>\n",
              "    <tr>\n",
              "      <th>0</th>\n",
              "      <td>p</td>\n",
              "      <td>x</td>\n",
              "      <td>s</td>\n",
              "      <td>n</td>\n",
              "      <td>t</td>\n",
              "      <td>p</td>\n",
              "      <td>f</td>\n",
              "      <td>c</td>\n",
              "      <td>n</td>\n",
              "      <td>k</td>\n",
              "      <td>...</td>\n",
              "      <td>s</td>\n",
              "      <td>w</td>\n",
              "      <td>w</td>\n",
              "      <td>p</td>\n",
              "      <td>w</td>\n",
              "      <td>o</td>\n",
              "      <td>p</td>\n",
              "      <td>k</td>\n",
              "      <td>s</td>\n",
              "      <td>u</td>\n",
              "    </tr>\n",
              "    <tr>\n",
              "      <th>1</th>\n",
              "      <td>e</td>\n",
              "      <td>x</td>\n",
              "      <td>s</td>\n",
              "      <td>y</td>\n",
              "      <td>t</td>\n",
              "      <td>a</td>\n",
              "      <td>f</td>\n",
              "      <td>c</td>\n",
              "      <td>b</td>\n",
              "      <td>k</td>\n",
              "      <td>...</td>\n",
              "      <td>s</td>\n",
              "      <td>w</td>\n",
              "      <td>w</td>\n",
              "      <td>p</td>\n",
              "      <td>w</td>\n",
              "      <td>o</td>\n",
              "      <td>p</td>\n",
              "      <td>n</td>\n",
              "      <td>n</td>\n",
              "      <td>g</td>\n",
              "    </tr>\n",
              "    <tr>\n",
              "      <th>2</th>\n",
              "      <td>e</td>\n",
              "      <td>b</td>\n",
              "      <td>s</td>\n",
              "      <td>w</td>\n",
              "      <td>t</td>\n",
              "      <td>l</td>\n",
              "      <td>f</td>\n",
              "      <td>c</td>\n",
              "      <td>b</td>\n",
              "      <td>n</td>\n",
              "      <td>...</td>\n",
              "      <td>s</td>\n",
              "      <td>w</td>\n",
              "      <td>w</td>\n",
              "      <td>p</td>\n",
              "      <td>w</td>\n",
              "      <td>o</td>\n",
              "      <td>p</td>\n",
              "      <td>n</td>\n",
              "      <td>n</td>\n",
              "      <td>m</td>\n",
              "    </tr>\n",
              "    <tr>\n",
              "      <th>3</th>\n",
              "      <td>p</td>\n",
              "      <td>x</td>\n",
              "      <td>y</td>\n",
              "      <td>w</td>\n",
              "      <td>t</td>\n",
              "      <td>p</td>\n",
              "      <td>f</td>\n",
              "      <td>c</td>\n",
              "      <td>n</td>\n",
              "      <td>n</td>\n",
              "      <td>...</td>\n",
              "      <td>s</td>\n",
              "      <td>w</td>\n",
              "      <td>w</td>\n",
              "      <td>p</td>\n",
              "      <td>w</td>\n",
              "      <td>o</td>\n",
              "      <td>p</td>\n",
              "      <td>k</td>\n",
              "      <td>s</td>\n",
              "      <td>u</td>\n",
              "    </tr>\n",
              "    <tr>\n",
              "      <th>4</th>\n",
              "      <td>e</td>\n",
              "      <td>x</td>\n",
              "      <td>s</td>\n",
              "      <td>g</td>\n",
              "      <td>f</td>\n",
              "      <td>n</td>\n",
              "      <td>f</td>\n",
              "      <td>w</td>\n",
              "      <td>b</td>\n",
              "      <td>k</td>\n",
              "      <td>...</td>\n",
              "      <td>s</td>\n",
              "      <td>w</td>\n",
              "      <td>w</td>\n",
              "      <td>p</td>\n",
              "      <td>w</td>\n",
              "      <td>o</td>\n",
              "      <td>e</td>\n",
              "      <td>n</td>\n",
              "      <td>a</td>\n",
              "      <td>g</td>\n",
              "    </tr>\n",
              "  </tbody>\n",
              "</table>\n",
              "<p>5 rows × 23 columns</p>\n",
              "</div>\n",
              "      <button class=\"colab-df-convert\" onclick=\"convertToInteractive('df-53d21873-1f88-45ee-bc6a-1f6979850bbe')\"\n",
              "              title=\"Convert this dataframe to an interactive table.\"\n",
              "              style=\"display:none;\">\n",
              "        \n",
              "  <svg xmlns=\"http://www.w3.org/2000/svg\" height=\"24px\"viewBox=\"0 0 24 24\"\n",
              "       width=\"24px\">\n",
              "    <path d=\"M0 0h24v24H0V0z\" fill=\"none\"/>\n",
              "    <path d=\"M18.56 5.44l.94 2.06.94-2.06 2.06-.94-2.06-.94-.94-2.06-.94 2.06-2.06.94zm-11 1L8.5 8.5l.94-2.06 2.06-.94-2.06-.94L8.5 2.5l-.94 2.06-2.06.94zm10 10l.94 2.06.94-2.06 2.06-.94-2.06-.94-.94-2.06-.94 2.06-2.06.94z\"/><path d=\"M17.41 7.96l-1.37-1.37c-.4-.4-.92-.59-1.43-.59-.52 0-1.04.2-1.43.59L10.3 9.45l-7.72 7.72c-.78.78-.78 2.05 0 2.83L4 21.41c.39.39.9.59 1.41.59.51 0 1.02-.2 1.41-.59l7.78-7.78 2.81-2.81c.8-.78.8-2.07 0-2.86zM5.41 20L4 18.59l7.72-7.72 1.47 1.35L5.41 20z\"/>\n",
              "  </svg>\n",
              "      </button>\n",
              "      \n",
              "  <style>\n",
              "    .colab-df-container {\n",
              "      display:flex;\n",
              "      flex-wrap:wrap;\n",
              "      gap: 12px;\n",
              "    }\n",
              "\n",
              "    .colab-df-convert {\n",
              "      background-color: #E8F0FE;\n",
              "      border: none;\n",
              "      border-radius: 50%;\n",
              "      cursor: pointer;\n",
              "      display: none;\n",
              "      fill: #1967D2;\n",
              "      height: 32px;\n",
              "      padding: 0 0 0 0;\n",
              "      width: 32px;\n",
              "    }\n",
              "\n",
              "    .colab-df-convert:hover {\n",
              "      background-color: #E2EBFA;\n",
              "      box-shadow: 0px 1px 2px rgba(60, 64, 67, 0.3), 0px 1px 3px 1px rgba(60, 64, 67, 0.15);\n",
              "      fill: #174EA6;\n",
              "    }\n",
              "\n",
              "    [theme=dark] .colab-df-convert {\n",
              "      background-color: #3B4455;\n",
              "      fill: #D2E3FC;\n",
              "    }\n",
              "\n",
              "    [theme=dark] .colab-df-convert:hover {\n",
              "      background-color: #434B5C;\n",
              "      box-shadow: 0px 1px 3px 1px rgba(0, 0, 0, 0.15);\n",
              "      filter: drop-shadow(0px 1px 2px rgba(0, 0, 0, 0.3));\n",
              "      fill: #FFFFFF;\n",
              "    }\n",
              "  </style>\n",
              "\n",
              "      <script>\n",
              "        const buttonEl =\n",
              "          document.querySelector('#df-53d21873-1f88-45ee-bc6a-1f6979850bbe button.colab-df-convert');\n",
              "        buttonEl.style.display =\n",
              "          google.colab.kernel.accessAllowed ? 'block' : 'none';\n",
              "\n",
              "        async function convertToInteractive(key) {\n",
              "          const element = document.querySelector('#df-53d21873-1f88-45ee-bc6a-1f6979850bbe');\n",
              "          const dataTable =\n",
              "            await google.colab.kernel.invokeFunction('convertToInteractive',\n",
              "                                                     [key], {});\n",
              "          if (!dataTable) return;\n",
              "\n",
              "          const docLinkHtml = 'Like what you see? Visit the ' +\n",
              "            '<a target=\"_blank\" href=https://colab.research.google.com/notebooks/data_table.ipynb>data table notebook</a>'\n",
              "            + ' to learn more about interactive tables.';\n",
              "          element.innerHTML = '';\n",
              "          dataTable['output_type'] = 'display_data';\n",
              "          await google.colab.output.renderOutput(dataTable, element);\n",
              "          const docLink = document.createElement('div');\n",
              "          docLink.innerHTML = docLinkHtml;\n",
              "          element.appendChild(docLink);\n",
              "        }\n",
              "      </script>\n",
              "    </div>\n",
              "  </div>\n",
              "  "
            ]
          },
          "metadata": {},
          "execution_count": 189
        }
      ]
    },
    {
      "cell_type": "code",
      "execution_count": null,
      "metadata": {
        "id": "JCzqvkkYTv0z",
        "colab": {
          "base_uri": "https://localhost:8080/"
        },
        "outputId": "ed891cf2-14c1-4c87-b169-0db236dffe98"
      },
      "outputs": [
        {
          "output_type": "stream",
          "name": "stdout",
          "text": [
            "(149, 5)\n",
            "   sepal_length  sepal_width  petal_length  petal_width       Target\n",
            "0           4.9          3.0           1.4          0.2  Iris-setosa\n",
            "1           4.7          3.2           1.3          0.2  Iris-setosa\n",
            "2           4.6          3.1           1.5          0.2  Iris-setosa\n",
            "3           5.0          3.6           1.4          0.2  Iris-setosa\n",
            "4           5.4          3.9           1.7          0.4  Iris-setosa \n",
            "\n",
            "\n"
          ]
        }
      ],
      "source": [
        "#Importar csv y guardar en un dataframe\n",
        "df_iris = pd.read_csv (r'/content/iris.data')\n",
        "df_iris.columns = [\"sepal_length\", \"sepal_width\", \"petal_length\", \"petal_width\", \"Target\"]\n",
        "print(df_iris.shape)\n",
        "print(df_iris.head(), '\\n\\n')\n",
        "\n",
        "y_iris = df_iris['Target']\n",
        "#print('Esta es \"y\"\\n', y_iris.head(), '\\n\\n')\n",
        "\n",
        "x_iris = df_iris.loc[ : , df_iris.columns != 'Target']\n",
        "#print('Esta es \"x\"\\n', x_iris.head())"
      ]
    },
    {
      "cell_type": "code",
      "source": [
        "df_titanic = pd.read_csv (r'/content/titanic.csv')\n",
        "print(df_titanic.shape)\n",
        "print(df_titanic.head(), '\\n\\n')\n",
        "\n",
        "y_titanic = df_titanic['Survived']\n",
        "#print('Esta es clase \"y\"\\n', y_titanic.head(), '\\n\\n')\n",
        "\n",
        "x_titanic = df_titanic.loc[ : , df_titanic.columns != 'Survived']\n",
        "#print('Esta es \"x\"\\n', x_titanic.head())"
      ],
      "metadata": {
        "id": "MV3AGrpxYFtd",
        "colab": {
          "base_uri": "https://localhost:8080/"
        },
        "outputId": "1572b051-acc0-451b-edc5-31e5afc19b57"
      },
      "execution_count": null,
      "outputs": [
        {
          "output_type": "stream",
          "name": "stdout",
          "text": [
            "(1309, 12)\n",
            "   PassengerId  Survived  Pclass  \\\n",
            "0            1         0       3   \n",
            "1            2         1       1   \n",
            "2            3         1       3   \n",
            "3            4         1       1   \n",
            "4            5         0       3   \n",
            "\n",
            "                                                Name     Sex   Age  SibSp  \\\n",
            "0                            Braund, Mr. Owen Harris    male  22.0      1   \n",
            "1  Cumings, Mrs. John Bradley (Florence Briggs Th...  female  38.0      1   \n",
            "2                             Heikkinen, Miss. Laina  female  26.0      0   \n",
            "3       Futrelle, Mrs. Jacques Heath (Lily May Peel)  female  35.0      1   \n",
            "4                           Allen, Mr. William Henry    male  35.0      0   \n",
            "\n",
            "   Parch            Ticket     Fare Cabin Embarked  \n",
            "0      0         A/5 21171   7.2500   NaN        S  \n",
            "1      0          PC 17599  71.2833   C85        C  \n",
            "2      0  STON/O2. 3101282   7.9250   NaN        S  \n",
            "3      0            113803  53.1000  C123        S  \n",
            "4      0            373450   8.0500   NaN        S   \n",
            "\n",
            "\n"
          ]
        }
      ]
    },
    {
      "cell_type": "markdown",
      "source": [
        "**Step 1) Función Gini**"
      ],
      "metadata": {
        "id": "Df2wQ6zBn68D"
      }
    },
    {
      "cell_type": "code",
      "source": [
        "def Gini(y):\n",
        "  '''\n",
        "  Función Gini(y) que recibe un objeto pandas.Series 'y'. Calcula el coeficiente de Gini para dicha serie. \n",
        "  '''\n",
        "  if isinstance(y, pd.Series):\n",
        "    p = y.value_counts()/y.shape[0]\n",
        "    gini = 1-(np.sum(p**2))\n",
        "    return(gini)\n",
        "  else:\n",
        "    print(\"Objeto debe ser un Pandas.Series\")"
      ],
      "metadata": {
        "id": "M3xdsR5sn2fj"
      },
      "execution_count": null,
      "outputs": []
    },
    {
      "cell_type": "code",
      "source": [
        "#Ejemplo de prueba de funcion Gini\n",
        "Gini(df_titanic.Survived)"
      ],
      "metadata": {
        "id": "qHnmJXV-rek-",
        "colab": {
          "base_uri": "https://localhost:8080/"
        },
        "outputId": "26babadf-eb30-4c5e-eb5b-e8c45e322f06"
      },
      "execution_count": null,
      "outputs": [
        {
          "output_type": "execute_result",
          "data": {
            "text/plain": [
              "0.4699322607020445"
            ]
          },
          "metadata": {},
          "execution_count": 193
        }
      ]
    },
    {
      "cell_type": "markdown",
      "source": [
        "**Step 2) Función Gini Split**"
      ],
      "metadata": {
        "id": "mbuAlttcswIh"
      }
    },
    {
      "cell_type": "code",
      "source": [
        "def Gini_split(ys):\n",
        "  '''\n",
        "  Función que recibe un arreglo con diversos objetos pandas.Series y calcula el coeficiente de Ginisplit para esta división.\n",
        "  '''\n",
        "  nodo_padre = ys.iloc[:, 0] # Columna padre\n",
        "  nodo_izq = ys.iloc[:, 1] # Columna hijo izquierdo\n",
        "  nodo_der = ys.iloc[:, -1] # Columna hijo derecho\n",
        "  nodo_padre = nodo_padre.dropna()\n",
        "  nodo_izq = nodo_izq.dropna()\n",
        "  nodo_der =nodo_der.dropna()\n",
        "  num_izq = len(nodo_izq) / len(nodo_padre)\n",
        "  num_der = len(nodo_der) / len(nodo_padre)\n",
        "  gini_split = num_izq * Gini(nodo_izq) + num_der * Gini(nodo_der)\n",
        "  informacion_ganada = Gini(nodo_padre) - gini_split \n",
        "  #print(\"info ganada\",informacion_ganada)\n",
        "  return informacion_ganada"
      ],
      "metadata": {
        "id": "H4U8zKI6C76s"
      },
      "execution_count": null,
      "outputs": []
    },
    {
      "cell_type": "code",
      "source": [
        "#Ejemplo de prueba de funcion Gini split\n",
        "padrr = pd.Series([0, 0, 0, 0, 0, 0, 0, 0, 0, 0, 0, 0, 1, 1, 1, 1, 1, 1, 1, 1])\n",
        "izqq = pd.Series([0, 0, 0, 0, 0, 0, 0, 0, 0, 0, 1, 1])\n",
        "derr = pd.Series([0, 0, 0, 0, 1, 1, 1, 1])\n",
        "ys = pd.concat([padrr, izqq, derr], axis=1)\n",
        "#print(ys)\n",
        "print('Informacion ganada', np.round(Gini_split(ys), 5))"
      ],
      "metadata": {
        "id": "FY5iB1xsIWAi",
        "colab": {
          "base_uri": "https://localhost:8080/"
        },
        "outputId": "e57b36ef-2b86-44ca-c4fa-b32800bd12c0"
      },
      "execution_count": null,
      "outputs": [
        {
          "output_type": "stream",
          "name": "stdout",
          "text": [
            "Informacion ganada 0.11333\n"
          ]
        }
      ]
    },
    {
      "cell_type": "markdown",
      "source": [
        "**Step 3) Metodo FIT**"
      ],
      "metadata": {
        "id": "Rzs1Hz9jH1uF"
      }
    },
    {
      "cell_type": "markdown",
      "source": [
        "### Clase Nodo"
      ],
      "metadata": {
        "id": "Z3l9hL4rzJv5"
      }
    },
    {
      "cell_type": "code",
      "source": [
        "class Nodo():\n",
        "    def __init__(self, tipo=None, conteo=None, columna_split=None, valor_split=None, tipo_split=None, info_ganada=None, hijo_izq=None, hijo_der=None, clase =None):\n",
        "        self.tipo = tipo\n",
        "        self.conteo = conteo\n",
        "        self.columna_split = columna_split\n",
        "        self.valor_split = valor_split\n",
        "        self.tipo_split = tipo_split\n",
        "        self.hijo_izq = hijo_izq\n",
        "        self.hijo_der = hijo_der\n",
        "        self.info_ganada = info_ganada\n",
        "        self.clase = clase"
      ],
      "metadata": {
        "id": "eMt2gmHHVIAy"
      },
      "execution_count": null,
      "outputs": []
    },
    {
      "cell_type": "markdown",
      "source": [
        "### Clase Árbol de Decisión"
      ],
      "metadata": {
        "id": "bxDHB_dd3mif"
      }
    },
    {
      "cell_type": "code",
      "source": [
        "from pandas.core.internals.base import DataManager\n",
        "from operator import ilshift\n",
        "class DecisionTree():\n",
        "    def __init__(self):        \n",
        "        # inicializa la raiz del árbol \n",
        "        self.root = None \n",
        "        # Condición de parada\n",
        "        self.max_depth = None\n",
        "        self.datos_split_min = 2\n",
        "    \n",
        "    def fit(self, x, y, max_depth = None):\n",
        "        ''' función para entrenar el árbol'''\n",
        "        self.max_depth = max_depth \n",
        "        data = pd.concat([x,y], axis=1)\n",
        "        self.root = self.build_decision_tree(data)\n",
        "    \n",
        "    def build_decision_tree(self, data, my_depth =0):\n",
        "        x = data.iloc[:,:-1]\n",
        "        y = data.iloc[: , -1]\n",
        "        num_datos = x.shape[0]\n",
        "        if self.max_depth != None:\n",
        "            if (my_depth < self.max_depth and num_datos >= self.datos_split_min):\n",
        "                best_split = self.get_best_split(x, y)\n",
        "                if best_split[\"gini\"]>0:\n",
        "                  # Recursion hijo izquierdo. Respuesta positiva\n",
        "                  sub_arbol_izq = self.build_decision_tree(best_split[\"child-left\"], my_depth+1)\n",
        "                  # Recursion hijo derecho. Respuesta negativa\n",
        "                  sub_arbol_der = self.build_decision_tree(best_split[\"child-right\"], my_depth+1)\n",
        "                  # retorna un nodo de decision\n",
        "                  return Nodo(best_split[\"type\"], best_split[\"count\"], best_split[\"split-column\"], \n",
        "                              best_split[\"split-value\"], best_split[\"split-type\"], best_split[\"gini\"], sub_arbol_izq, sub_arbol_der) \n",
        "        else:\n",
        "          if (num_datos >= self.datos_split_min):\n",
        "            best_split = self.get_best_split(x, y)\n",
        "            if best_split[\"gini\"]>0:\n",
        "              # Recursion hijo izquierdo. Respuesta positiva\n",
        "              sub_arbol_izq = self.build_decision_tree(best_split[\"child-left\"], my_depth+1)\n",
        "              # Recursion hijo derecho. Respuesta negativa\n",
        "              sub_arbol_der = self.build_decision_tree(best_split[\"child-right\"], my_depth+1)\n",
        "              # retorna un nodo de decision\n",
        "              return Nodo(best_split[\"type\"], best_split[\"count\"], best_split[\"split-column\"], \n",
        "                          best_split[\"split-value\"], best_split[\"split-type\"], best_split[\"gini\"], sub_arbol_izq, sub_arbol_der)\n",
        " \n",
        "        # Actualiza informacion nodo hoja\n",
        "        clase_hoja = self.calcular_clase_hoja(y)\n",
        "        # Retorna nodo hoja\n",
        "        return Nodo(tipo='leaf', conteo=len(y), clase=clase_hoja)\n",
        "    \n",
        "    def get_best_split(self, x, y):\n",
        "        #Lista para guardar el best split\n",
        "        best_split = {}\n",
        "        info_ganada_max = -float(\"inf\")\n",
        "        #Separamos los atributos numericos \n",
        "        numerical_atrib = x.select_dtypes(include=['int16', 'int32', 'int64', 'float16', 'float32', 'float64']).columns\n",
        "        #Iteramos sobre cada posible atributo\n",
        "        for atributo in x:\n",
        "          atributos_valores = x.loc[:, atributo]\n",
        "          if atributo in numerical_atrib:\n",
        "            posibles_valores, atributo_valido = self.separacion_numerica(atributos_valores)\n",
        "          else:\n",
        "            posibles_valores, atributo_valido = self.separacion_categorica(atributos_valores)\n",
        "          if(atributo_valido):\n",
        "            # Iteramos sobre todos los posibles valores de un atributo\n",
        "            for valor_split in posibles_valores:\n",
        "                # get current split\n",
        "                indices_hijo_izq, indices_hijo_der = self.split_nodes(x, atributo, valor_split, numerical_atrib)\n",
        "                # Revisa que los nodos no se esten vacios\n",
        "                if len(indices_hijo_izq)>0 and len(indices_hijo_der)>0:\n",
        "                    y_df, y_izq, y_der = y, y.loc[indices_hijo_izq], y.loc[indices_hijo_der]\n",
        "                    x_izq, x_der = x.loc[indices_hijo_izq], x.loc[indices_hijo_der]\n",
        "                    ys = pd.concat([y_df, y_izq, y_der], axis=1)\n",
        "                    # Se obtiene informacion ganada\n",
        "                    info_ganada_act = Gini_split(ys)\n",
        "                    # Actualiza el mejor split\n",
        "                    if info_ganada_act > info_ganada_max:\n",
        "                        #Se concatena los datos x con y\n",
        "                        hijo_izq_data = pd.concat([x_izq, y_izq], axis=1)\n",
        "                        hijo_der_data = pd.concat([x_der,y_der], axis=1)\n",
        "                        # Actualiza informacion del mejor split\n",
        "                        best_split[\"type\"] = \"split\"\n",
        "                        best_split[\"count\"] = len(y_df)\n",
        "                        best_split[\"split-column\"] = atributo\n",
        "                        best_split[\"split-value\"] = valor_split\n",
        "                        if atributo in numerical_atrib:\n",
        "                          best_split[\"split-type\"] = \"numerical\"\n",
        "                        else:\n",
        "                          best_split[\"split-type\"] = \"categorical\"\n",
        "                        best_split[\"gini\"] = info_ganada_act\n",
        "                        best_split[\"child-left\"] = hijo_izq_data\n",
        "                        best_split[\"child-right\"] = hijo_der_data\n",
        "                        info_ganada_max = info_ganada_act\n",
        "                        \n",
        "        # return best split\n",
        "        return best_split\n",
        "    \n",
        "    def split_nodes(self, x, atributo, valor_split, numerical_atrib):\n",
        "        ''' función que separa los atributos que se encuentran antes y después de la elegida ''' \n",
        "        if atributo in numerical_atrib:\n",
        "          indices_izq = x.index[x[atributo] <= valor_split]\n",
        "          indices_der = x.index[x[atributo] > valor_split]\n",
        "        else:\n",
        "          indices_izq = x.index[x[atributo] == valor_split]\n",
        "          indices_der = x.index[x[atributo] !=  valor_split]\n",
        "        return indices_izq, indices_der\n",
        "\n",
        "    #3.a\n",
        "    def calcular_clase_hoja(self, y):\n",
        "      ''' funcion que calcula la clase del nodo hoja'''\n",
        "      y = list(y)\n",
        "      return max(y, key=y.count)    \n",
        "\n",
        "    #3.c\n",
        "    def separacion_numerica(self, atributo):\n",
        "        max = atributo.max()\n",
        "        min = atributo.min()\n",
        "        if max!=min:\n",
        "          pts_intermedios = np.linspace(min , max, num=12, retstep=True)\n",
        "          pts_intermedios_array = pts_intermedios[0]\n",
        "          pts_intermedios_array = pts_intermedios_array[1:11]\n",
        "          return pts_intermedios_array, True\n",
        "        else:\n",
        "          return [], False\n",
        "\n",
        "    #3.d\n",
        "    def separacion_categorica(self, atributo):\n",
        "        categories = atributo.unique()\n",
        "        #Si tal atributo posee más de una categorís\n",
        "        if 1 < len(categories):\n",
        "            return categories, True\n",
        "        else:\n",
        "            return [], False\n",
        "\n",
        "    def to_dict(self, node=None, espacio=\" \"):\n",
        "        node_dic = {}\n",
        "        if not node: \n",
        "          node = self.root\n",
        "        if node.tipo == 'leaf':\n",
        "          node_dic[\"type\"] = node.tipo\n",
        "          node_dic[\"class\"] = node.clase\n",
        "          node_dic[\"count\"] = node.conteo\n",
        "        else:\n",
        "          node_dic[\"type\"] = node.tipo\n",
        "          node_dic[\"gini\"] = node.info_ganada\n",
        "          node_dic[\"count\"] = node.conteo\n",
        "          node_dic[\"split-type\"] = node.tipo_split\n",
        "          node_dic[\"split-column\"] = node.columna_split\n",
        "          node_dic[\"split-value\"] = node.valor_split\n",
        "          node_dic[\"child-left\"] = self.to_dict(node.hijo_izq)\n",
        "          node_dic[\"child-right\"] = self.to_dict(node.hijo_der)\n",
        "        return node_dic\n",
        "\n",
        "    def predict(self, X):\n",
        "      '''función que predice un nuevo dataset '''\n",
        "      predicciones = []\n",
        "      for num_row in range(len(X)):\n",
        "        x = X.iloc[num_row]\n",
        "        predicciones.append(self.make_prediction(x, self.root))\n",
        "      print('\\nPerdicciones hechas a cada entrada:\\n\\t', predicciones)\n",
        "      return predicciones\n",
        "\n",
        "    \n",
        "    def make_prediction(self, x, nodo):\n",
        "        '''función que predice fila por fila (entrada por entrada) '''\n",
        "        if nodo.clase != None:\n",
        "          return nodo.clase\n",
        "        val_atributo = x[nodo.columna_split]\n",
        "        #Si soy str voy con ==\n",
        "        if isinstance(val_atributo, str):\n",
        "          if val_atributo == nodo.valor_split:\n",
        "              return self.make_prediction(x, nodo.hijo_izq)\n",
        "          else:\n",
        "              return self.make_prediction(x, nodo.hijo_der)\n",
        "        #Si soy float voy con <=\n",
        "        else:     \n",
        "          if val_atributo <= nodo.valor_split:\n",
        "              return self.make_prediction(x, nodo.hijo_izq)\n",
        "          else:\n",
        "              return self.make_prediction(x, nodo.hijo_der)\n",
        "\n"
      ],
      "metadata": {
        "id": "f2n2qDfn3ruP"
      },
      "execution_count": null,
      "outputs": []
    },
    {
      "cell_type": "markdown",
      "source": [
        "###Entrenando el árbol de decisión"
      ],
      "metadata": {
        "id": "3FPIxkWyZ1aX"
      }
    },
    {
      "cell_type": "code",
      "source": [
        "num_dataset = input('Elija el dataset que desea usar para el entrenamiento\\n\\t1) iris\\n\\t2) mushrooms\\n\\t3) titanic\\n')\n",
        "continua = False\n",
        "\n",
        "if '1' == num_dataset:\n",
        "  x_dataset = x_iris\n",
        "  y_dataset = y_iris\n",
        "  continua = True\n",
        "elif '2' == num_dataset:\n",
        "  x_dataset = x_mushrooms\n",
        "  y_dataset = y_mushrooms\n",
        "  continua = True\n",
        "elif '3' == num_dataset:\n",
        "  x_dataset = x_titanic\n",
        "  y_dataset = y_titanic\n",
        "  continua = True\n",
        "else:\n",
        "  print('\\n\\tValor no esperado, intente más tarde')\n",
        "\n",
        "if continua == True:\n",
        "  from sklearn.model_selection import train_test_split\n",
        "  X_train, X_test, Y_train, Y_test = train_test_split(x_dataset, y_dataset, test_size=.2, random_state=41)\n",
        "\n",
        "  #Testing train tree\n",
        "  arbol_decision = DecisionTree()\n",
        "  arbol_decision.fit(X_train,Y_train, max_depth=3)\n",
        "  arbol = arbol_decision.to_dict()\n",
        "  print(arbol)"
      ],
      "metadata": {
        "colab": {
          "base_uri": "https://localhost:8080/"
        },
        "id": "gthkiIcj_GVh",
        "outputId": "1a77c00e-8af3-4b6d-dc57-3e13ed345458"
      },
      "execution_count": null,
      "outputs": [
        {
          "output_type": "stream",
          "name": "stdout",
          "text": [
            "Elija el dataset que desea usar para el entrenamiento\n",
            "\t1) iris\n",
            "\t2) mushrooms\n",
            "\t3) titanic\n",
            "3\n",
            "{'type': 'split', 'gini': 0.22224147079404197, 'count': 1047, 'split-type': 'categorical', 'split-column': 'Sex', 'split-value': 'male', 'child-left': {'type': 'split', 'gini': 0.04438689171821836, 'count': 667, 'split-type': 'numerical', 'split-column': 'Age', 'split-value': 14.889090909090909, 'child-left': {'type': 'split', 'gini': 0.2077566530691532, 'count': 48, 'split-type': 'numerical', 'split-column': 'SibSp', 'split-value': 2.1818181818181817, 'child-left': {'type': 'leaf', 'class': 1, 'count': 26}, 'child-right': {'type': 'leaf', 'class': 0, 'count': 22}}, 'child-right': {'type': 'split', 'gini': 0.012520773594727586, 'count': 473, 'split-type': 'numerical', 'split-column': 'Pclass', 'split-value': 1.1818181818181819, 'child-left': {'type': 'leaf', 'class': 0, 'count': 117}, 'child-right': {'type': 'leaf', 'class': 0, 'count': 356}}}, 'child-right': {'type': 'split', 'gini': 0.06667933983231972, 'count': 380, 'split-type': 'numerical', 'split-column': 'Age', 'split-value': 13.957272727272727, 'child-left': {'type': 'split', 'gini': 0.11250188964474672, 'count': 35, 'split-type': 'numerical', 'split-column': 'SibSp', 'split-value': 2.2727272727272725, 'child-left': {'type': 'leaf', 'class': 1, 'count': 27}, 'child-right': {'type': 'leaf', 'class': 0, 'count': 8}}, 'child-right': {'type': 'split', 'gini': 0.0555762381551293, 'count': 279, 'split-type': 'numerical', 'split-column': 'Pclass', 'split-value': 2.090909090909091, 'child-left': {'type': 'leaf', 'class': 1, 'count': 184}, 'child-right': {'type': 'leaf', 'class': 1, 'count': 95}}}}\n"
          ]
        }
      ]
    },
    {
      "cell_type": "markdown",
      "source": [
        "### Probando el árbol de decisión"
      ],
      "metadata": {
        "id": "7lJetgo4aQv-"
      }
    },
    {
      "cell_type": "code",
      "source": [
        "Y_pred = arbol_decision.predict(X_test) \n",
        "from sklearn.metrics import accuracy_score\n",
        "accuracy_score(Y_test, Y_pred)"
      ],
      "metadata": {
        "id": "3oxp82gnUKcZ",
        "colab": {
          "base_uri": "https://localhost:8080/"
        },
        "outputId": "0f9adec2-c451-4f25-d29b-60b184877933"
      },
      "execution_count": null,
      "outputs": [
        {
          "output_type": "stream",
          "name": "stdout",
          "text": [
            "\n",
            "Perdicciones hechas a cada entrada:\n",
            "\t [1, 0, 0, 0, 0, 0, 0, 0, 0, 1, 0, 1, 1, 1, 0, 1, 0, 0, 0, 1, 0, 1, 0, 0, 0, 0, 1, 0, 0, 0, 1, 0, 1, 0, 0, 1, 0, 0, 0, 0, 0, 1, 1, 0, 0, 0, 0, 0, 0, 1, 1, 1, 0, 0, 1, 0, 1, 1, 0, 0, 0, 0, 1, 0, 1, 0, 1, 1, 0, 0, 1, 0, 1, 0, 0, 1, 1, 1, 1, 1, 1, 1, 0, 0, 0, 0, 0, 1, 0, 0, 1, 0, 0, 1, 0, 0, 0, 0, 1, 1, 0, 0, 1, 0, 1, 0, 1, 0, 1, 1, 0, 0, 0, 0, 0, 1, 0, 0, 0, 0, 1, 1, 1, 0, 1, 1, 0, 0, 1, 1, 0, 0, 0, 0, 1, 0, 0, 1, 1, 0, 1, 1, 1, 0, 1, 1, 0, 0, 0, 0, 1, 0, 0, 1, 0, 0, 1, 0, 0, 1, 1, 1, 0, 1, 0, 0, 0, 0, 0, 0, 1, 0, 0, 1, 0, 0, 0, 0, 0, 0, 0, 0, 1, 1, 0, 0, 0, 0, 0, 0, 1, 0, 0, 0, 1, 0, 0, 0, 0, 0, 1, 0, 1, 0, 1, 1, 1, 0, 1, 0, 0, 0, 1, 1, 0, 0, 0, 0, 0, 0, 1, 0, 0, 0, 0, 1, 0, 0, 0, 0, 0, 0, 0, 0, 0, 0, 0, 0, 0, 0, 1, 1, 0, 0, 1, 1, 0, 1, 1, 1, 1, 1, 0, 1, 0, 0, 0, 0, 0, 1, 0, 0]\n"
          ]
        },
        {
          "output_type": "execute_result",
          "data": {
            "text/plain": [
              "0.851145038167939"
            ]
          },
          "metadata": {},
          "execution_count": 207
        }
      ]
    },
    {
      "cell_type": "markdown",
      "source": [
        "### Matriz de confusión"
      ],
      "metadata": {
        "id": "wCoA_lVOTnIh"
      }
    },
    {
      "cell_type": "code",
      "source": [
        "def calculate_confusion_matrix(predict, real):\n",
        "    pclass = set(real.unique()).union(predict.unique())\n",
        "    matrix = {}\n",
        "    for real_index in pclass:\n",
        "        valor = {}\n",
        "        for predict_index in pclass:\n",
        "            valor[predict_index] = 0\n",
        "        matrix[real_index] = valor\n",
        "    for predict_entry, real_entry in zip(predict, real):\n",
        "        matrix[real_entry][predict_entry] = matrix[real_entry][predict_entry] + 1\n",
        "    return matrix\n",
        "\n",
        "#Prueba\n",
        "conf_matrix = calculate_confusion_matrix(Y_test, pd.Series(Y_pred))\n",
        "print('\\nMi matriz de confusión:\\n', conf_matrix)"
      ],
      "metadata": {
        "colab": {
          "base_uri": "https://localhost:8080/"
        },
        "id": "Feue6p6cll6R",
        "outputId": "4410c709-92bd-4e50-b435-3049138d8e0f"
      },
      "execution_count": null,
      "outputs": [
        {
          "output_type": "stream",
          "name": "stdout",
          "text": [
            "\n",
            "Mi matriz de confusión:\n",
            " {'p': {'p': 777, 'e': 24}, 'e': {'p': 3, 'e': 821}}\n"
          ]
        }
      ]
    },
    {
      "cell_type": "markdown",
      "source": [
        "###Conclusiones\n",
        "\n",
        "En sus propias palabras: ¿qué mejoras o funcionalidades adicionales se le ocurre que podría incluir en su clase DecisionTree? Mencione al menos 2.\n",
        "- Que el diccionario se pueda imprimir de forma más estructurada o entendible a la vista. :) \n",
        "-  Utilizamos estructuras de dataframes con pandas, sin embargo para el dataset de Titanic dura aproximadamente 1 min para entrenar el árbol, por lo que sería interesante probar si trabajar con estructuras numpy, pueda reducir el tiempo. \n",
        "\n",
        "Compare el rendimiento de su árbol con el de un árbol de la biblioteca sklearn, ¿qué tanto varían los resultados para el mismo set de datos de entrenamiento-prueba? \n",
        "\n",
        "Los porcentajes de predicción eran muy cercanos. Para el dataset Iris, nos dió 0.8667%, para Mushrooms 0.9834% y para Titanic 0.8511%.\n",
        "\n"
      ],
      "metadata": {
        "id": "-Wbcuj9SSTzs"
      }
    }
  ]
}